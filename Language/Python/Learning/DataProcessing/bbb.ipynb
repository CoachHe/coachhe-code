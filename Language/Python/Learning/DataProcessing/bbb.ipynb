#%%
import pandas as pb

#%%
a = 1
a
#%%
